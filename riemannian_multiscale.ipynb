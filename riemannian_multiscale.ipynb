{
 "cells": [
  {
   "cell_type": "code",
   "execution_count": 19,
   "metadata": {},
   "outputs": [
    {
     "name": "stdout",
     "output_type": "stream",
     "text": [
      "Requirement already satisfied: import-ipynb in /home/jatin/anaconda3/lib/python3.6/site-packages (0.1.3)\r\n"
     ]
    }
   ],
   "source": [
    "! pip install import-ipynb"
   ]
  },
  {
   "cell_type": "code",
   "execution_count": 20,
   "metadata": {},
   "outputs": [
    {
     "name": "stdout",
     "output_type": "stream",
     "text": [
      "Requirement already up-to-date: pip in /home/jatin/anaconda3/lib/python3.6/site-packages (20.1.1)\r\n"
     ]
    }
   ],
   "source": [
    "! pip install --upgrade pip"
   ]
  },
  {
   "cell_type": "code",
   "execution_count": 21,
   "metadata": {
    "collapsed": true
   },
   "outputs": [],
   "source": [
    "import import_ipynb\n",
    "import numpy as np\n",
    "from pyriemann.utils import mean,base\n",
    "import scipy \n",
    "\n",
    "from filters import butter_fir_filter\n",
    "from eig import gevd"
   ]
  },
  {
   "cell_type": "code",
   "execution_count": 22,
   "metadata": {
    "collapsed": true
   },
   "outputs": [],
   "source": [
    "import import_ipynb\n",
    "import numpy as np\n",
    "from pyriemann.utils import mean,base\n",
    "import scipy \n",
    "\n",
    "from filters import butter_fir_filter\n",
    "from eig import gevd"
   ]
  },
  {
   "cell_type": "code",
   "execution_count": 23,
   "metadata": {
    "collapsed": true
   },
   "outputs": [],
   "source": [
    "import import_ipynb\n",
    "import numpy as np\n",
    "from pyriemann.utils import mean,base\n",
    "import scipy \n",
    "\n",
    "import filters\n",
    "from eig import gevd"
   ]
  },
  {
   "cell_type": "code",
   "execution_count": 24,
   "metadata": {
    "collapsed": true
   },
   "outputs": [],
   "source": [
    "class riemannian_multiscale:\n",
    "    def __init__(self,filter_bank,temp_windows,riem_opt = 'Riemann',rho = 0.1,vectorized = True): \n",
    "        self.filter_bank = filter_bank\n",
    "        self.n_freq = filter_bank.shape[0]\n",
    "        # Temporal windows \n",
    "        self.temp_windows = temp_windows\n",
    "        self.n_temp = temp_windows.shape[0]\n",
    "        # determine kernel function \n",
    "        if riem_opt == 'Whitened_Euclid':\n",
    "            self.riem_kernel = self.whitened_kernel\n",
    "        else: \n",
    "            self.riem_kernel = self.log_whitened_kernel \n",
    "        # determine mean metric \n",
    "        if riem_opt == 'Riemann':\n",
    "            self.mean_metric = 'riemann'\n",
    "        elif riem_opt == 'Riemann_Euclid' or riem_opt == 'Whitened_Euclid':\n",
    "            self.mean_metric = 'euclid'\n",
    "        self.riem_opt = riem_opt \n",
    "        # regularization \n",
    "        self.rho = rho\n",
    "        # vectorization (for SVM) \n",
    "        self.vectorized = vectorized\n",
    "        \n",
    "    def fit(self,data):\n",
    "        n_tr_trial,n_channel,_ = data.shape\n",
    "        self.n_channel = n_channel\n",
    "        self.n_riemann = int((n_channel+1)*n_channel/2)\n",
    "        cov_mat = np.zeros((n_tr_trial,self.n_temp,self.n_freq,n_channel,n_channel))\n",
    "        for trial_idx in range(n_tr_trial):\n",
    "            for temp_idx in range(self.n_temp): \n",
    "                t_start,t_end  = self.temp_windows[temp_idx,0] ,self.temp_windows[temp_idx,1]\n",
    "                n_samples = t_end-t_start\n",
    "                for freq_idx in range(self.n_freq): \n",
    "                    # filter signal \n",
    "                    data_filter = butter_fir_filter(data[trial_idx,:,t_start:t_end], self.filter_bank[freq_idx])\n",
    "                    # regularized covariance matrix \n",
    "                    cov_mat[trial_idx,temp_idx,freq_idx] = 1/(n_samples-1)*np.dot(data_filter,np.transpose(data_filter)) + self.rho/n_samples*np.eye(n_channel)\n",
    "   \n",
    "        self.c_ref_invsqrtm = np.zeros((self.n_freq,n_channel,n_channel))\n",
    "\n",
    "        for freq_idx in range(self.n_freq): \n",
    "            if self.riem_opt == 'No_Adaptation': \n",
    "                self.c_ref_invsqrtm[freq_idx]= np.eye(n_channel)\n",
    "            else: \n",
    "                # Mean covariance matrix over all trials and temp winds per frequency band \n",
    "                cov_avg = mean.mean_covariance(cov_mat[:,:,freq_idx].reshape(-1,n_channel,n_channel), metric = self.mean_metric)\n",
    "                self.c_ref_invsqrtm[freq_idx] = base.invsqrtm(cov_avg)\n",
    "            \n",
    "        train_feat = np.zeros((n_tr_trial,self.n_temp,self.n_freq,self.n_riemann))\n",
    "\n",
    "        for trial_idx in range(n_tr_trial):\n",
    "            for temp_idx in range(self.n_temp): \n",
    "                for freq_idx in range(self.n_freq): \n",
    "                    train_feat[trial_idx,temp_idx,freq_idx] = self.riem_kernel(cov_mat[trial_idx,temp_idx,freq_idx],self.c_ref_invsqrtm[freq_idx])\n",
    "\n",
    "        if self.vectorized: \n",
    "            return train_feat.reshape(n_tr_trial,-1)\n",
    "        else: \n",
    "            return train_feat\n",
    "        \n",
    "    def features(self,data):\n",
    "        n_trial = data.shape[0]\n",
    "\n",
    "        feat = np.zeros((n_trial,self.n_temp,self.n_freq,self.n_riemann))\n",
    "\n",
    "        # calculate training covariance matrices  \n",
    "        for trial_idx in range(n_trial):\n",
    "            for temp_idx in range(self.n_temp): \n",
    "                t_start,t_end  = self.temp_windows[temp_idx,0] ,self.temp_windows[temp_idx,1]\n",
    "                n_samples = t_end-t_start\n",
    "\n",
    "\n",
    "                for freq_idx in range(self.n_freq): \n",
    "                    # filter signal \n",
    "                    data_filter = butter_fir_filter(data[trial_idx,:,t_start:t_end], self.filter_bank[freq_idx])\n",
    "                    # regularized covariance matrix \n",
    "                    cov_mat = 1/(n_samples-1)*np.dot(data_filter,np.transpose(data_filter)) + self.rho/n_samples*np.eye(self.n_channel)\n",
    "                    # \n",
    "                    feat[trial_idx,temp_idx,freq_idx] = self.riem_kernel(cov_mat,self.c_ref_invsqrtm[freq_idx])\n",
    "\n",
    "        if self.vectorized: \n",
    "            return feat.reshape(n_trial,-1)\n",
    "        else: \n",
    "            return feat\n",
    "    \n",
    "    def onetrial_feature(self,data):\n",
    "        n_samples = data.shape[1]\n",
    "\n",
    "        feat = np.zeros((self.n_freq,self.n_riemann))\n",
    "\n",
    "        for freq_idx in range(self.n_freq): \n",
    "            # filter signal \n",
    "            data_filter = butter_fir_filter(data, self.filter_bank[freq_idx])\n",
    "            # regularized covariance matrix \n",
    "            cov_mat = 1/(n_samples-1)*np.dot(data_filter,np.transpose(data_filter)) + self.rho/n_samples*np.eye(self.n_channel)\n",
    "            # \n",
    "            feat[freq_idx] = self.riem_kernel(cov_mat,self.c_ref_invsqrtm[freq_idx])\n",
    "\n",
    "        if self.vectorized: \n",
    "            return feat.reshape(-1)\n",
    "        else: \n",
    "            return feat\n",
    "        \n",
    "    def half_vectorization(self,mat):\n",
    "        _,N = mat.shape \n",
    "\n",
    "        NO_elements = ((N+1)*N/2)\n",
    "        NO_elements = int(NO_elements)\n",
    "        out_vec = np.zeros(NO_elements)\n",
    "\n",
    "        # fill diagonal elements with factor one \n",
    "        for diag in range(0,N):\n",
    "            out_vec[diag] = mat[diag,diag]\n",
    "\n",
    "        sqrt2 = np.sqrt(2)\n",
    "        idx = N\n",
    "        for col in range(1,N):\n",
    "            for row in range(0,col):\n",
    "                out_vec[idx] = sqrt2*mat[row,col]\n",
    "                idx +=1\n",
    "        return out_vec\n",
    "    \n",
    "    def whitened_kernel(self,mat,c_ref_invsqrtm): \n",
    "        return self.half_vectorization(np.dot(np.dot(c_ref_invsqrtm,mat),c_ref_invsqrtm)) \n",
    "    \n",
    "    def log_whitened_kernel(self,mat,c_ref_invsqrtm): \n",
    "        return self.half_vectorization(base.logm(np.dot(np.dot(c_ref_invsqrtm,mat),c_ref_invsqrtm)))"
   ]
  },
  {
   "cell_type": "code",
   "execution_count": null,
   "metadata": {
    "collapsed": true
   },
   "outputs": [],
   "source": []
  }
 ],
 "metadata": {
  "kernelspec": {
   "display_name": "Python 3",
   "language": "python",
   "name": "python3"
  },
  "language_info": {
   "codemirror_mode": {
    "name": "ipython",
    "version": 3
   },
   "file_extension": ".py",
   "mimetype": "text/x-python",
   "name": "python",
   "nbconvert_exporter": "python",
   "pygments_lexer": "ipython3",
   "version": "3.6.3"
  }
 },
 "nbformat": 4,
 "nbformat_minor": 2
}

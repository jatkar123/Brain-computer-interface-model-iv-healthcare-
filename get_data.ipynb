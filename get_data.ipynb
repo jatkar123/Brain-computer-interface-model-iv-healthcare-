{
 "cells": [
  {
   "cell_type": "code",
   "execution_count": 5,
   "metadata": {
    "collapsed": true
   },
   "outputs": [],
   "source": [
    "import numpy as np\n",
    "import time, sys "
   ]
  },
  {
   "cell_type": "code",
   "execution_count": 6,
   "metadata": {
    "collapsed": true
   },
   "outputs": [],
   "source": [
    "from sklearn.svm import LinearSVC,SVC\n",
    "from sklearn.model_selection import KFold\n"
   ]
  },
  {
   "cell_type": "code",
   "execution_count": 7,
   "metadata": {
    "collapsed": true
   },
   "outputs": [],
   "source": [
    "import numpy as np\n",
    "import scipy.io as sio"
   ]
  },
  {
   "cell_type": "code",
   "execution_count": 8,
   "metadata": {
    "collapsed": true
   },
   "outputs": [],
   "source": [
    "def get_data(subject,training,PATH):\n",
    "    NO_channels = 22\n",
    "    NO_tests = 6*48 \n",
    "    Window_Length = 7*250 \n",
    "\n",
    "    class_return = np.zeros(NO_tests)\n",
    "    data_return = np.zeros((NO_tests,NO_channels,Window_Length))\n",
    "    \n",
    "    NO_valid_trial = 0\n",
    "    if training:\n",
    "        a = sio.loadmat('/home/jatin/BCI project/dataset/'+'A0'+str(subject)+'T.mat')\n",
    "    else:\n",
    "        a = sio.loadmat('/home/jatin/BCI project/dataset/'+'A0'+str(subject)+'E.mat')\n",
    "    a_data = a['data']\n",
    "    for ii in range(0,a_data.size):\n",
    "        a_data1 = a_data[0,ii]\n",
    "        a_data2=[a_data1[0,0]]\n",
    "        a_data3=a_data2[0]\n",
    "        a_X = a_data3[0]\n",
    "        a_trial = a_data3[1]\n",
    "        a_y = a_data3[2]\n",
    "        a_fs = a_data3[3]\n",
    "        a_classes = a_data3[4]\n",
    "        a_artifacts = a_data3[5]\n",
    "        a_gender = a_data3[6]\n",
    "        a_age = a_data3[7]\n",
    "        for trial in range(0,a_trial.size):\n",
    "            if(a_artifacts[trial]==0):\n",
    "                data_return[NO_valid_trial,:,:] = np.transpose(a_X[int(a_trial[trial]):(int(a_trial[trial])+Window_Length),:22])\n",
    "                class_return[NO_valid_trial] = int(a_y[trial])\n",
    "                NO_valid_trial +=1\n",
    "\n",
    "\n",
    "    return data_return[0:NO_valid_trial,:,:], class_return[0:NO_valid_trial]"
   ]
  },
  {
   "cell_type": "code",
   "execution_count": null,
   "metadata": {
    "collapsed": true
   },
   "outputs": [],
   "source": []
  }
 ],
 "metadata": {
  "kernelspec": {
   "display_name": "Python 3",
   "language": "python",
   "name": "python3"
  },
  "language_info": {
   "codemirror_mode": {
    "name": "ipython",
    "version": 3
   },
   "file_extension": ".py",
   "mimetype": "text/x-python",
   "name": "python",
   "nbconvert_exporter": "python",
   "pygments_lexer": "ipython3",
   "version": "3.6.3"
  }
 },
 "nbformat": 4,
 "nbformat_minor": 2
}

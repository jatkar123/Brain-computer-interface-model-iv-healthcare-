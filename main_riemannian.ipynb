{
 "cells": [
  {
   "cell_type": "code",
   "execution_count": 1,
   "metadata": {
    "collapsed": true
   },
   "outputs": [],
   "source": [
    "import numpy as np\n",
    "import time, sys \n",
    "\n",
    "from sklearn.svm import LinearSVC,SVC\n",
    "from sklearn.model_selection import KFold"
   ]
  },
  {
   "cell_type": "code",
   "execution_count": 2,
   "metadata": {},
   "outputs": [
    {
     "name": "stdout",
     "output_type": "stream",
     "text": [
      "importing Jupyter notebook from riemannian_multiscale.ipynb\n",
      "Requirement already satisfied: import-ipynb in /home/jatin/anaconda3/lib/python3.6/site-packages (0.1.3)\n",
      "Requirement already up-to-date: pip in /home/jatin/anaconda3/lib/python3.6/site-packages (20.1.1)\n",
      "importing Jupyter notebook from filters.ipynb\n",
      "importing Jupyter notebook from eig.ipynb\n",
      "importing Jupyter notebook from get_data.ipynb\n"
     ]
    }
   ],
   "source": [
    "import import_ipynb\n",
    "from riemannian_multiscale import riemannian_multiscale\n",
    "from filters import load_filterbank \n",
    "from get_data import get_data"
   ]
  },
  {
   "cell_type": "code",
   "execution_count": 3,
   "metadata": {
    "collapsed": true
   },
   "outputs": [],
   "source": [
    "class Riemannian_Model:\n",
    "    def __init__(self):\n",
    "        self.crossvalidation = False\n",
    "        self.data_path = 'dataset/'\n",
    "        self.svm_kernel = 'linear' #'sigmoid'#'linear' # 'sigmoid', 'rbf',\n",
    "        self.svm_c = 0.1 # for linear 0.1 (inverse),\n",
    "        self.NO_splits = 5 # number of folds in cross validation \n",
    "        self.fs = 250. # sampling frequency \n",
    "        self.NO_channels = 22 # number of EEG channels \n",
    "        self.NO_subjects = 9\n",
    "        self.NO_riem = int(self.NO_channels*(self.NO_channels+1)/2) # Total number of CSP feature per band and timewindow\n",
    "        self.bw = np.array([2,4,8,16,32]) # bandwidth of filtered signals \n",
    "        self.ftype = 'butter' # 'fir', 'butter'\n",
    "        self.forder= 2 # 4\n",
    "        self.filter_bank = load_filterbank(self.bw,self.fs,order=self.forder,max_freq=40,ftype = self.ftype) # get filterbank coeffs\n",
    "        time_windows_flt = np.array([[2.5,4.5],\n",
    "                                        [4,6],\n",
    "                                        [2.5,6],\n",
    "                                        [2.5,3.5],\n",
    "                                        [3,4],\n",
    "                                        [4,5]])*self.fs\n",
    "        self.time_windows = time_windows_flt.astype(int)\n",
    "        # restrict time windows and frequency bands \n",
    "        self.time_windows = self.time_windows[2:3] # use only largest timewindow\n",
    "        #self.f_bands_nom = self.f_bands_nom[18:27] # use only 4Hz-32Hz bands\n",
    "        self.rho = 0.1\n",
    "        self.NO_bands = self.filter_bank.shape[0]\n",
    "        self.NO_time_windows = self.time_windows.shape[0]\n",
    "        self.NO_features = self.NO_riem*self.NO_bands*self.NO_time_windows\n",
    "        self.riem_opt = \"Riemann\" # {\"Riemann\",\"Riemann_Euclid\",\"Whitened_Euclid\",\"No_Adaptation\"}\n",
    "        # time measurements \n",
    "        self.train_time = 0\n",
    "        self.train_trials = 0\n",
    "        self.eval_time = 0\n",
    "        self.eval_trials = 0\n",
    "        \n",
    "    def run_riemannian(self):\n",
    "    ################################ Training ############################################################################\n",
    "        start_train = time.time()\n",
    "\n",
    "        # 1. calculate features and mean covariance for training \n",
    "        riemann = riemannian_multiscale(self.filter_bank,self.time_windows,riem_opt =self.riem_opt,rho = self.rho,vectorized = True)\n",
    "        train_feat = riemann.fit(self.train_data)\n",
    "\n",
    "        # 2. Train SVM Model \n",
    "        if self.svm_kernel == 'linear' : \n",
    "            clf = LinearSVC(C = self.svm_c, intercept_scaling=1, loss='hinge', max_iter=1000,multi_class='ovr', penalty='l2', random_state=1, tol=0.00001)\n",
    "        else:\n",
    "            clf = SVC(self.svm_c,self.svm_kernel, degree=10, gamma='auto', coef0=0.0, tol=0.001, cache_size=10000, max_iter=-1, decision_function_shape='ovr')\n",
    "    \n",
    "        clf.fit(train_feat,self.train_label) \n",
    "\n",
    "        end_train = time.time()\n",
    "        self.train_time += end_train-start_train\n",
    "        self.train_trials += len(self.train_label)\n",
    "    ################################# Evaluation ###################################################\n",
    "        start_eval = time.time()\n",
    "    \n",
    "        eval_feat = riemann.features(self.eval_data)\n",
    "\n",
    "        success_rate = clf.score(eval_feat,self.eval_label)\n",
    "\n",
    "        end_eval = time.time()\n",
    "\n",
    "        #print(\"Time for one Evaluation \" + str((end_eval-start_eval)/len(self.eval_label)) )\n",
    "\n",
    "        self.eval_time += end_eval-start_eval\n",
    "        self.eval_trials += len(self.eval_label)\n",
    "\n",
    "        return success_rate \n",
    "    \n",
    "    def load_data(self):\n",
    "        if self.crossvalidation:\n",
    "            data,label = get_data(self.subject,True,self.data_path)\n",
    "            kf = KFold(n_splits=self.NO_splits)\n",
    "            split = 0 \n",
    "            for train_index, test_index in kf.split(data):\n",
    "                if self.split == split:\n",
    "                    self.train_data = data[train_index]\n",
    "                    self.train_label = label[train_index]\n",
    "                    self.eval_data = data[test_index]\n",
    "                    self.eval_label = label[test_index]\n",
    "                split += 1\n",
    "        else:\n",
    "            self.train_data,self.train_label = get_data(self.subject,True,self.data_path)\n",
    "            self.eval_data,self.eval_label = get_data(self.subject,False,self.data_path)\n"
   ]
  },
  {
   "cell_type": "code",
   "execution_count": 4,
   "metadata": {
    "collapsed": true
   },
   "outputs": [],
   "source": [
    "def main():\n",
    "    model = Riemannian_Model()\n",
    "\n",
    "    print(\"Number of used features: \"+ str(model.NO_features))\n",
    "\n",
    "    print(model.riem_opt)\n",
    "\n",
    "    # success rate sum over all subjects \n",
    "    success_tot_sum = 0\n",
    "\n",
    "    if model.crossvalidation:\n",
    "        print(\"Cross validation run\")\n",
    "    else: \n",
    "        print(\"Test data set\")\n",
    "    start = time.time()\n",
    "\n",
    "    # Go through all subjects \n",
    "    for model.subject in range(1,model.NO_subjects+1):\n",
    "\n",
    "        #print(\"Subject\" + str(model.subject)+\":\")\n",
    "\n",
    "\n",
    "        if model.crossvalidation:\n",
    "            success_sub_sum = 0 \n",
    "\n",
    "            for model.split in range(model.NO_splits):\n",
    "                model.load_data()\n",
    "                success_sub_sum += model.run_riemannian()\n",
    "\n",
    "            # average over all splits \n",
    "            success_rate = success_sub_sum/model.NO_splits\n",
    "\n",
    "        else: \n",
    "            # load Eval data \n",
    "            model.load_data()\n",
    "            success_rate = model.run_riemannian()\n",
    "        \n",
    "        print(success_rate)\n",
    "        success_tot_sum += success_rate \n",
    "\n",
    "\n",
    "    # Average success rate over all subjects \n",
    "    print(\"Average success rate: \" + str(success_tot_sum/model.NO_subjects))\n",
    "\n",
    "    print(\"Training average time: \" +  str(model.train_time/model.NO_subjects))\n",
    "    print(\"Evaluation average time: \" +  str(model.eval_time/model.NO_subjects))\n",
    "\n",
    "    end = time.time()\n",
    "\n",
    "    print(\"Time elapsed [s] \" + str(end - start))\n",
    "\n"
   ]
  },
  {
   "cell_type": "code",
   "execution_count": 5,
   "metadata": {},
   "outputs": [
    {
     "name": "stdout",
     "output_type": "stream",
     "text": [
      "Number of used features: 10879\n",
      "Riemann\n",
      "Test data set\n",
      "0.9181494661921709\n",
      "0.5159010600706714\n",
      "0.8351648351648352\n",
      "0.7324561403508771\n",
      "0.6340579710144928\n",
      "0.586046511627907\n",
      "0.8664259927797834\n",
      "0.8154981549815498\n",
      "0.8257575757575758\n",
      "Average success rate: 0.7477175231044293\n",
      "Training average time: 80.2174043920305\n",
      "Evaluation average time: 24.291080660290188\n",
      "Time elapsed [s] 985.7604706287384\n"
     ]
    }
   ],
   "source": [
    "if __name__ == '__main__':\n",
    "    main()"
   ]
  },
  {
   "cell_type": "code",
   "execution_count": null,
   "metadata": {
    "collapsed": true
   },
   "outputs": [],
   "source": []
  }
 ],
 "metadata": {
  "kernelspec": {
   "display_name": "Python 3",
   "language": "python",
   "name": "python3"
  },
  "language_info": {
   "codemirror_mode": {
    "name": "ipython",
    "version": 3
   },
   "file_extension": ".py",
   "mimetype": "text/x-python",
   "name": "python",
   "nbconvert_exporter": "python",
   "pygments_lexer": "ipython3",
   "version": "3.6.3"
  }
 },
 "nbformat": 4,
 "nbformat_minor": 2
}

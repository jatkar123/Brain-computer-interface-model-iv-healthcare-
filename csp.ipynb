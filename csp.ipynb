{
 "cells": [
  {
   "cell_type": "code",
   "execution_count": 3,
   "metadata": {},
   "outputs": [
    {
     "name": "stdout",
     "output_type": "stream",
     "text": [
      "importing Jupyter notebook from filters.ipynb\n",
      "importing Jupyter notebook from eig.ipynb\n"
     ]
    }
   ],
   "source": [
    "import import_ipynb\n",
    "import numpy as np \n",
    "from scipy.special import binom\n",
    "import pyriemann.utils.mean as rie_mean\n",
    "import filters \n",
    "from eig import gevd\n"
   ]
  },
  {
   "cell_type": "code",
   "execution_count": 4,
   "metadata": {
    "collapsed": true
   },
   "outputs": [],
   "source": [
    "def csp_one_one(cov_matrix,NO_csp,NO_classes):\n",
    "    N, _ = cov_matrix[0].shape \n",
    "    n_comb = binom(NO_classes,2)\n",
    "\n",
    "    NO_filtpairs = int(NO_csp/(n_comb*2))\n",
    "\n",
    "    w = np.zeros((N,NO_csp))\n",
    "\n",
    "    kk = 0 # internal counter \n",
    "    for cc1 in range(0,NO_classes):\n",
    "        for cc2 in range(cc1+1,NO_classes):\n",
    "            w[:,NO_filtpairs*2*(kk):NO_filtpairs*2*(kk+1)] = gevd(cov_matrix[cc1], cov_matrix[cc2],NO_filtpairs)\n",
    "            kk +=1\n",
    "    return w "
   ]
  },
  {
   "cell_type": "code",
   "execution_count": 5,
   "metadata": {
    "collapsed": true
   },
   "outputs": [],
   "source": [
    "def generate_projection(data,class_vec,NO_csp,filter_bank,time_windows,NO_classes=4): \n",
    "    time_windows = time_windows.reshape((-1,2))\n",
    "    NO_bands = filter_bank.shape[0]\n",
    "    NO_time_windows = len(time_windows[:,0])\n",
    "    NO_channels = len(data[0,:,0])\n",
    "    NO_trials = class_vec.size\n",
    "    w = np.zeros((NO_time_windows,NO_bands,NO_channels,NO_csp))\n",
    "    \n",
    "    for subband in range(0,NO_bands): \n",
    "\n",
    "        cov = np.zeros((NO_classes,NO_trials, NO_channels,NO_channels)) # sum of covariance depending on the class\n",
    "        cov_avg = np.zeros((NO_classes,NO_channels,NO_channels))\n",
    "        cov_cntr = np.zeros(NO_classes).astype(int) # counter of class occurence \n",
    "\n",
    "        #go through all trials and estimate covariance matrix of every class \n",
    "        for trial in range(0,NO_trials):\n",
    "            #frequency band of every channel\n",
    "            data_filter = butter_fir_filter(data[trial,:,t_start:t_end], filter_bank[subband])\n",
    "            cur_class_idx = int(class_vec[trial]-1)\n",
    "\n",
    "            # caclulate current covariance matrix \n",
    "            cov[cur_class_idx,cov_cntr[cur_class_idx],:,:] = np.dot(data_filter,np.transpose(data_filter))\n",
    "\n",
    "            # update covariance matrix and class counter \n",
    "            cov_cntr[cur_class_idx] += 1\n",
    "\n",
    "            # calculate average of covariance matrix \n",
    "        for clas in range(0,NO_classes):\n",
    "            cov_avg[clas,:,:] = rie_mean.mean_covariance(cov[clas,:cov_cntr[clas],:,:], metric = 'euclid')\n",
    "            w[t_wind,subband,:,:] = csp_one_one(cov_avg,NO_csp,NO_classes) \n",
    "    return w"
   ]
  },
  {
   "cell_type": "code",
   "execution_count": 6,
   "metadata": {
    "collapsed": true
   },
   "outputs": [],
   "source": [
    "def generate_eye(data,class_vec,filter_bank,time_windows): \n",
    "    time_windows = time_windows.reshape((-1,2))\n",
    "    NO_bands = filter_bank.shape[0]\n",
    "    NO_time_windows = len(time_windows[:,0])\n",
    "    NO_channels = len(data[0,:,0])\n",
    "    NO_trials = class_vec.size\n",
    "\n",
    "    # Initialize spatial filter: \n",
    "    w = np.zeros((NO_time_windows,NO_bands,NO_channels,NO_channels))\n",
    "    for t_wind in range(NO_time_windows):\n",
    "        for band in range(NO_bands):\n",
    "            w[t_wind,band] = np.eye(NO_channels)\n",
    "    return w\n"
   ]
  },
  {
   "cell_type": "code",
   "execution_count": 7,
   "metadata": {
    "collapsed": true
   },
   "outputs": [],
   "source": [
    "def extract_feature(data,w,filter_bank,time_windows):\n",
    "    NO_csp = len(w[0,0,0,:])\n",
    "    time_windows = time_windows.reshape((-1,2))\n",
    "    NO_time_windows = int(time_windows.size/2)\n",
    "    NO_bands = filter_bank.shape[0]\n",
    "    NO_trials = len(data[:,0,0])\n",
    "    NO_features = NO_csp*NO_bands*NO_time_windows\n",
    "    \n",
    "    feature_mat = np.zeros((NO_trials, NO_time_windows,NO_bands,NO_csp))\n",
    "    \n",
    "    for trial in range(0,NO_trials):\n",
    "        # iterate through all time windows \n",
    "        for t_wind in range(0,NO_time_windows):\n",
    "            # get start and end point of current time window \n",
    "            t_start = time_windows[t_wind,0]\n",
    "            t_end = time_windows[t_wind,1]\n",
    "\n",
    "            for subband in range(0,NO_bands):\n",
    "                #Apply spatial Filter to data \n",
    "                cur_data_s = np.dot(np.transpose(w[t_wind,subband]),data[trial,:,t_start:t_end])\n",
    "\n",
    "                #frequency filtering  \n",
    "                cur_data_f_s = butter_fir_filter(cur_data_s,filter_bank[subband])\n",
    "\n",
    "                # calculate variance of all channels \n",
    "                feat[t_wind,subband] = np.var(cur_data_f_s,axis=1)\n",
    "\n",
    "                # calculate log10 of normalized feature vector \n",
    "\n",
    "        for subband in range(0,NO_bands):\n",
    "            feat[:,subband] = np.log10(feat[:,subband])#/np.sum(feat[:,subband]))\n",
    "\n",
    "        # store feature in list\t\n",
    "        feature_mat[trial,:,:,:] = feat\n",
    "    return np.reshape(feature_mat,(NO_trials,-1)) "
   ]
  },
  {
   "cell_type": "code",
   "execution_count": null,
   "metadata": {
    "collapsed": true
   },
   "outputs": [],
   "source": []
  }
 ],
 "metadata": {
  "kernelspec": {
   "display_name": "Python 3",
   "language": "python",
   "name": "python3"
  }
 },
 "nbformat": 4,
 "nbformat_minor": 2
}

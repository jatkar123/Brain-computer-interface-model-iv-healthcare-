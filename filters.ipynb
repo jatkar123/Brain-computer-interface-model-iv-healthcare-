{
 "cells": [
  {
   "cell_type": "code",
   "execution_count": 1,
   "metadata": {
    "collapsed": true
   },
   "outputs": [],
   "source": [
    "import numpy as np\n",
    "from scipy import signal \n",
    "from scipy.signal import butter, sosfilt, sosfreqz\n"
   ]
  },
  {
   "cell_type": "code",
   "execution_count": 12,
   "metadata": {
    "collapsed": true
   },
   "outputs": [],
   "source": [
    "def bandpass_filter(signal_in,f_band_nom):\n",
    "    order = 4\n",
    "    sos = butter(order, f_band_nom, analog=False, btype='band', output='sos')\n",
    "    sig_filt = sosfilt(sos, signal_in)\n",
    "    return sig_filt"
   ]
  },
  {
   "cell_type": "code",
   "execution_count": 7,
   "metadata": {
    "collapsed": true
   },
   "outputs": [],
   "source": [
    "def load_bands(bandwidth,f_s,max_freq = 40):\n",
    "    f_bands = np.zeros((99,2)).astype(float)\n",
    "    band_counter = 0\n",
    "    for bw in bandwidth:\n",
    "        startfreq = 4\n",
    "        while (startfreq + bw <= max_freq): \n",
    "            f_bands[band_counter] = [startfreq, startfreq + bw]\n",
    "            if bw ==1: # do 1Hz steps\n",
    "                startfreq = startfreq +1\n",
    "            elif bw == 2: # do 2Hz steps\n",
    "                startfreq = startfreq +2 \n",
    "            else : # do 4 Hz steps if Bandwidths >= 4Hz\n",
    "                startfreq = startfreq +4\n",
    "\n",
    "            band_counter += 1 \n",
    "    f_bands_nom = 2*f_bands[:band_counter]/f_s\n",
    "    return f_bands_nom"
   ]
  },
  {
   "cell_type": "code",
   "execution_count": 8,
   "metadata": {
    "collapsed": true
   },
   "outputs": [],
   "source": [
    "def load_filterbank(bandwidth,fs, order = 4, max_freq = 40,ftype = 'butter'):\n",
    "    f_band_nom = load_bands(bandwidth,fs,max_freq) # get normalized bands \n",
    "    n_bands = f_band_nom.shape[0]\n",
    "    \n",
    "    if ftype == 'butter': \n",
    "        filter_bank = np.zeros((n_bands,order,6))\n",
    "    elif ftype == 'fir':\n",
    "        filter_bank = np.zeros((n_bands,order))\n",
    "\n",
    "\n",
    "\n",
    "    for band_idx in range(n_bands):\n",
    "        if ftype == 'butter': \n",
    "            filter_bank[band_idx] = butter(order, f_band_nom[band_idx], analog=False, btype='band', output='sos')\n",
    "        elif ftype == 'fir':\n",
    "            filter_bank[band_idx] = signal.firwin(order,f_band_nom[band_idx],pass_zero=False)\n",
    "    return filter_bank"
   ]
  },
  {
   "cell_type": "code",
   "execution_count": 9,
   "metadata": {
    "collapsed": true
   },
   "outputs": [],
   "source": [
    "def butter_fir_filter(signal_in,filter_coeff):\n",
    "\n",
    "    if filter_coeff.ndim == 2: # butter worth \n",
    "        return sosfilt(filter_coeff, signal_in)\n",
    "    elif filter_coeff.ndim ==1: # fir filter \n",
    "        NO_channels ,NO_samples = signal_in.shape \n",
    "        sig_filt = np.zeros((NO_channels ,NO_samples))\n",
    "\n",
    "        for channel in range(0,NO_channels):\n",
    "            sig_filt[channel] = signal.convolve(signal_in[channel,:],filter_coeff,mode='same') # signal has same size as signal_in (centered)\n",
    "        \n",
    "        return sig_filt"
   ]
  },
  {
   "cell_type": "code",
   "execution_count": 10,
   "metadata": {
    "collapsed": true
   },
   "outputs": [],
   "source": [
    "def butter_bandpass(lowcut, highcut, fs, order=5):\n",
    "        nyq = 0.5 * fs\n",
    "        low = lowcut / nyq\n",
    "        high = highcut / nyq\n",
    "        sos = butter(order, [low, high], analog=False, btype='band', output='sos')\n",
    "        return sos"
   ]
  },
  {
   "cell_type": "code",
   "execution_count": 11,
   "metadata": {
    "collapsed": true
   },
   "outputs": [],
   "source": [
    "def butter_bandpass_filter(data, lowcut, highcut, fs, order=5):\n",
    "        sos = butter_bandpass(lowcut, highcut, fs, order=order)\n",
    "        y = sosfilt(sos, data)\n",
    "        return y\n"
   ]
  },
  {
   "cell_type": "code",
   "execution_count": null,
   "metadata": {
    "collapsed": true
   },
   "outputs": [],
   "source": []
  }
 ],
 "metadata": {
  "kernelspec": {
   "display_name": "Python 3",
   "language": "python",
   "name": "python3"
  },
  "language_info": {
   "codemirror_mode": {
    "name": "ipython",
    "version": 3
   },
   "file_extension": ".py",
   "mimetype": "text/x-python",
   "name": "python",
   "nbconvert_exporter": "python",
   "pygments_lexer": "ipython3",
   "version": "3.6.3"
  }
 },
 "nbformat": 4,
 "nbformat_minor": 2
}
